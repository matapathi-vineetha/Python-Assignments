{
 "cells": [
  {
   "cell_type": "code",
   "execution_count": 1,
   "metadata": {
    "scrolled": true
   },
   "outputs": [
    {
     "name": "stdout",
     "output_type": "stream",
     "text": [
      "True\n",
      "True\n",
      "False\n",
      "False\n"
     ]
    }
   ],
   "source": [
    "# 2) Write a python program to test whether a number is within 100 of 1000 or 2000\n",
    "def near_thousand(n):\n",
    "    return((abs(1000-n)<=100)or(abs(2000-n)<=100))\n",
    "print(near_thousand(1000))\n",
    "print(near_thousand(900))\n",
    "print(near_thousand(300))\n",
    "print(near_thousand(2300))"
   ]
  },
  {
   "cell_type": "code",
   "execution_count": 4,
   "metadata": {},
   "outputs": [
    {
     "name": "stdout",
     "output_type": "stream",
     "text": [
      "\n",
      "All colors:skyblue-red-black\n",
      "\n"
     ]
    }
   ],
   "source": [
    "# 12) Write a python program to concatenate N strings\n",
    "list_of_colors =('skyblue','red','black')\n",
    "colors = '-'.join(list_of_colors)\n",
    "print()\n",
    "print(\"All colors:\"+colors)\n",
    "print()"
   ]
  },
  {
   "cell_type": "code",
   "execution_count": 5,
   "metadata": {},
   "outputs": [
    {
     "name": "stdout",
     "output_type": "stream",
     "text": [
      "['__doc__', '__file__', '__loader__', '__name__', '__package__', '__spec__', 'acos', 'acosh', 'asin', 'asinh', 'atan', 'atan2', 'atanh', 'ceil', 'comb', 'copysign', 'cos', 'cosh', 'degrees', 'dist', 'e', 'erf', 'erfc', 'exp', 'expm1', 'fabs', 'factorial', 'floor', 'fmod', 'frexp', 'fsum', 'gamma', 'gcd', 'hypot', 'inf', 'isclose', 'isfinite', 'isinf', 'isnan', 'isqrt', 'ldexp', 'lgamma', 'log', 'log10', 'log1p', 'log2', 'modf', 'nan', 'perm', 'pi', 'pow', 'prod', 'radians', 'remainder', 'sin', 'sinh', 'sqrt', 'tan', 'tanh', 'tau', 'trunc']\n"
     ]
    }
   ],
   "source": [
    "# 11) Write a program to get the detail of the math module\n",
    "import math\n",
    "math_Is =dir(math)\n",
    "print(math_Is)"
   ]
  },
  {
   "cell_type": "code",
   "execution_count": 6,
   "metadata": {
    "scrolled": true
   },
   "outputs": [
    {
     "name": "stdout",
     "output_type": "stream",
     "text": [
      "input first number:10\n",
      "input second number:59\n",
      "input third number:36\n",
      "Numbers in sorted order: 10 36 59\n"
     ]
    }
   ],
   "source": [
    "# 10) Write a python program to sort a three integers without using conditional statements and loops\n",
    "x =int(input(\"input first number:\"))\n",
    "y =int(input(\"input second number:\"))\n",
    "z =int(input(\"input third number:\"))\n",
    "a1 = min(x,y,z)\n",
    "a3 = max(x,y,z)\n",
    "a2 = (x+y+z)-a1-a3\n",
    "print(\"Numbers in sorted order:\",a1,a2,a3)"
   ]
  },
  {
   "cell_type": "code",
   "execution_count": 9,
   "metadata": {
    "scrolled": false
   },
   "outputs": [
    {
     "name": "stdout",
     "output_type": "stream",
     "text": [
      "input days:365\n",
      "input hours:24\n",
      "input minutes:60\n",
      "input seconds:60\n",
      "The total seconds is: 31626060\n"
     ]
    }
   ],
   "source": [
    "# 9) Write a python function to convert all units of time into seconds\n",
    "days = int(input(\"input days:\"))*3600*24\n",
    "hours = int(input(\"input hours:\"))*3600\n",
    "minutes =int(input(\"input minutes:\"))*60\n",
    "seconds =int(input(\"input seconds:\"))\n",
    "time =days+hours+minutes+seconds\n",
    "print(\"The total seconds is:\",time)"
   ]
  },
  {
   "cell_type": "code",
   "execution_count": 29,
   "metadata": {},
   "outputs": [
    {
     "name": "stdout",
     "output_type": "stream",
     "text": [
      "iniv\n",
      "ahteeniv\n",
      "m.vineetha\n"
     ]
    }
   ],
   "source": [
    "# 8) write a python program to reverse a string its length is a multiplication of 4 \n",
    "def reverse_string(str1):\n",
    "    if len(str1) % 4 == 0:\n",
    "       return ''.join(reversed(str1))\n",
    "    return str1\n",
    "print(reverse_string('vini'))\n",
    "print(reverse_string('vineetha'))\n",
    "print(reverse_string('m.vineetha'))"
   ]
  },
  {
   "cell_type": "code",
   "execution_count": 31,
   "metadata": {},
   "outputs": [
    {
     "name": "stdout",
     "output_type": "stream",
     "text": [
      "The lyrics is good!\n",
      "The lyrics is poor!\n"
     ]
    }
   ],
   "source": [
    "# 7) Write a python program to find appearance of the substring 'not' and 'poor' from a given string , if 'not' follows the 'poor' replace the whole 'not'...'poor' substring with 'good'\n",
    "def not_poor(str1):\n",
    "  snot = str1.find('not')\n",
    "  spoor = str1.find('poor')\n",
    "  if spoor > snot and snot>0 and spoor>0:\n",
    "    str1 = str1.replace(str1[snot:(spoor+4)], 'good')\n",
    "    return str1\n",
    "  else:\n",
    "    return str1\n",
    "print(not_poor('The lyrics is not that poor!'))\n",
    "print(not_poor('The lyrics is poor!'))"
   ]
  },
  {
   "cell_type": "code",
   "execution_count": 32,
   "metadata": {},
   "outputs": [
    {
     "name": "stdout",
     "output_type": "stream",
     "text": [
      "Viha\n",
      "Vine\n",
      "ViVi\n",
      "\n"
     ]
    }
   ],
   "source": [
    "# 5) Write a python program to get a string made of the first 2 and last 2 chars from a given string if the string length is less than 2 return instead of empty string\n",
    "def string_both_ends(str):\n",
    "  if len(str) < 2:\n",
    "    return ''\n",
    "  return str[0:2] + str[-2:]\n",
    "print(string_both_ends('Vineetha'))\n",
    "print(string_both_ends('Vine'))\n",
    "print(string_both_ends('Vi'))\n",
    "print(string_both_ends('V'))"
   ]
  },
  {
   "cell_type": "code",
   "execution_count": 34,
   "metadata": {},
   "outputs": [
    {
     "name": "stdout",
     "output_type": "stream",
     "text": [
      "Enter a number: 29\n",
      "The given number is odd number.\n"
     ]
    }
   ],
   "source": [
    "# 4) write a python program to find whatever a given number (accept from the user) is even or odd, print out an appropriate message to the user\n",
    "num = int(input(\"Enter a number: \"))\n",
    "mod = num % 2\n",
    "if mod > 0:\n",
    "    print(\"The given number is odd number.\")\n",
    "else:\n",
    "    print(\"the given number is even number.\")"
   ]
  },
  {
   "cell_type": "code",
   "execution_count": 35,
   "metadata": {},
   "outputs": [
    {
     "name": "stdout",
     "output_type": "stream",
     "text": [
      "6\n",
      "9\n"
     ]
    }
   ],
   "source": [
    "# 3)Write a python program to calculate the sum of three given numbers,if the values are equal then return three of their sum.\n",
    "def sum_thrice(x, y, z):\n",
    "     sum = x + y + z\n",
    "     if x == y == z:\n",
    "      sum = sum * 3\n",
    "     return sum\n",
    "print(sum_thrice(1, 2, 3))\n",
    "print(sum_thrice(1, 6, 2))"
   ]
  },
  {
   "cell_type": "code",
   "execution_count": 40,
   "metadata": {},
   "outputs": [
    {
     "name": "stdout",
     "output_type": "stream",
     "text": [
      "brster siother\n"
     ]
    }
   ],
   "source": [
    "# 6) Write a python program to get a single string from two given strings separated by a space and swap the first two characters of each string\n",
    "def chars_mix_up(a, b):\n",
    "  new_a = b[:2] + a[2:]\n",
    "  new_b = a[:2] + b[2:]\n",
    "\n",
    "  return new_a + ' ' + new_b\n",
    "print(chars_mix_up('sister', 'brother'))"
   ]
  },
  {
   "cell_type": "code",
   "execution_count": 47,
   "metadata": {
    "scrolled": false
   },
   "outputs": [
    {
     "name": "stdout",
     "output_type": "stream",
     "text": [
      "Twinkle, twinkle, little star, \n",
      "\tHow I wonder what you are! \n",
      "\t\tUp above the world so high, \n",
      "\t\tLike a diamond in the sky. \n",
      "Twinkle, twinkle, little star, \n",
      "\tHow I wonder what you are\n"
     ]
    }
   ],
   "source": [
    "# 1) Write a python program to print the following string in a specific format (see the output)\n",
    "print(\"Twinkle, twinkle, little star, \\n\\tHow I wonder what you are! \\n\\t\\tUp above the world so high, \\n\\t\\tLike a diamond in the sky. \\nTwinkle, twinkle, little star, \\n\\tHow I wonder what you are\")"
   ]
  },
  {
   "cell_type": "code",
   "execution_count": null,
   "metadata": {},
   "outputs": [],
   "source": []
  }
 ],
 "metadata": {
  "kernelspec": {
   "display_name": "Python 3",
   "language": "python",
   "name": "python3"
  },
  "language_info": {
   "codemirror_mode": {
    "name": "ipython",
    "version": 3
   },
   "file_extension": ".py",
   "mimetype": "text/x-python",
   "name": "python",
   "nbconvert_exporter": "python",
   "pygments_lexer": "ipython3",
   "version": "3.8.3"
  }
 },
 "nbformat": 4,
 "nbformat_minor": 4
}
